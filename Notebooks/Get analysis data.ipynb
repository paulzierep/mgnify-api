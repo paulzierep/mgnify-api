{
 "cells": [
  {
   "cell_type": "code",
   "execution_count": null,
   "metadata": {},
   "outputs": [],
   "source": [
    "!pip install jsonapi_client"
   ]
  },
  {
   "cell_type": "code",
   "execution_count": null,
   "metadata": {},
   "outputs": [],
   "source": [
    "from jsonapi_client import Session\n",
    "import pandas as pd\n",
    "\n",
    "analysis_ids = [\"MGYA00592687\",\"MGYA00591505\", \"MGYA00591506\"]\n",
    "\n",
    "for analysis_id in analysis_ids:\n",
    "\n",
    "    #########################################\n",
    "    # Get all downloads for one analysis\n",
    "    #########################################\n",
    "\n",
    "    with Session(\"https://www.ebi.ac.uk/metagenomics/api/v1\") as mgnify:\n",
    "        \n",
    "        dfs = []\n",
    "        for r in mgnify.iterate(f'analyses/{analysis}/downloads'):\n",
    "            df = pd.json_normalize(r.json)\n",
    "            df['url'] = str(r.links.self)\n",
    "            dfs.append(df)\n",
    "        \n",
    "    main_df = pd.concat(dfs)\n",
    "\n",
    "    ##########################\n",
    "    # get specific data url\n",
    "    #########################\n",
    "\n",
    "    data_type = \"TSV\"\n",
    "    data_label = \"OTUs and taxonomic assignments for SSU rRNA\"\n",
    "\n",
    "    c1 = main_df[\"attributes.file-format.name\"] == data_type\n",
    "    c2 = main_df[\"attributes.description.description\"] == data_label\n",
    "\n",
    "    url = main_df.loc[(c1 & c2), \"url\"].iloc[0]\n",
    "\n",
    "    ##########################\n",
    "    # download the data\n",
    "    #########################\n",
    "\n",
    "    data_output_folder = 'data/SSU'\n",
    "    os.makedirs(data_output_folder, exist_ok=True)\n",
    "\n",
    "    response = requests.get(url)\n",
    "\n",
    "    if not response:\n",
    "        print(f\"Could not download file, got response: {response.status_code}\")\n",
    "        break\n",
    "        \n",
    "    print(url)\n",
    "\n",
    "    data_output_path = os.path.join(data_output_folder, f\"{analysis_id}.tsv\")\n",
    "    with open(data_output_path, \"w\") as f:\n",
    "        f.write(response.text)\n",
    "        \n",
    "    # add to galaxy\n",
    "    put(data_output_path)"
   ]
  }
 ],
 "metadata": {
  "language_info": {
   "name": "python"
  },
  "orig_nbformat": 4
 },
 "nbformat": 4,
 "nbformat_minor": 2
}
